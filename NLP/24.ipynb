{
 "cells": [
  {
   "cell_type": "code",
   "execution_count": null,
   "id": "a39903a1",
   "metadata": {},
   "outputs": [],
   "source": [
    "import os\n",
    "import re\n",
    "from sklearn.feature_extraction.text import CountVectorizer\n",
    "\n",
    "# Function to read and preprocess the text files\n",
    "def read_and_preprocess(files):\n",
    "    text_data = []\n",
    "    \n",
    "    for file_path in files:\n",
    "        with open(file_path, 'r', encoding='utf-8') as file:\n",
    "            text = file.read()\n",
    "            \n",
    "            # Clean the text (remove punctuation, special characters, extra spaces)\n",
    "            text = re.sub(r'[^a-zA-Z\\s]', '', text)  # Remove punctuation, numbers, etc.\n",
    "            text = re.sub(r'\\s+', ' ', text)  # Replace multiple spaces with one\n",
    "            text = text.lower()  # Convert to lowercase\n",
    "            text_data.append(text)\n",
    "    \n",
    "    return text_data\n",
    "\n",
    "# Function to apply one-hot encoding (using CountVectorizer)\n",
    "def apply_one_hot_encoding(text_data):\n",
    "    vectorizer = CountVectorizer(binary=True)  # Set binary=True for one-hot encoding\n",
    "    one_hot_matrix = vectorizer.fit_transform(text_data)  # Apply one-hot encoding\n",
    "    return one_hot_matrix, vectorizer.get_feature_names_out()\n",
    "\n",
    "# List of file paths (Replace these paths with your actual file paths)\n",
    "files = ['file1.txt', 'file2.txt', 'file3.txt']  # Example file paths\n",
    "\n",
    "# Step 1: Read and preprocess the text files\n",
    "text_data = read_and_preprocess(files)\n",
    "\n",
    "# Step 2: Apply one-hot encoding\n",
    "one_hot_matrix, feature_names = apply_one_hot_encoding(text_data)\n",
    "\n",
    "# Step 3: Print the results\n",
    "print(\"One-Hot Encoded Matrix:\")\n",
    "print(one_hot_matrix.toarray())  # Convert sparse matrix to dense array and print\n",
    "\n",
    "print(\"\\nFeature Names (Vocabulary):\")\n",
    "print(feature_names)  # List of all unique words (features)\n"
   ]
  }
 ],
 "metadata": {
  "kernelspec": {
   "display_name": "Python 3 (ipykernel)",
   "language": "python",
   "name": "python3"
  },
  "language_info": {
   "codemirror_mode": {
    "name": "ipython",
    "version": 3
   },
   "file_extension": ".py",
   "mimetype": "text/x-python",
   "name": "python",
   "nbconvert_exporter": "python",
   "pygments_lexer": "ipython3",
   "version": "3.9.13"
  }
 },
 "nbformat": 4,
 "nbformat_minor": 5
}
