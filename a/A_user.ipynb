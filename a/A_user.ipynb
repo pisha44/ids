{
 "cells": [
  {
   "cell_type": "code",
   "execution_count": 2,
   "id": "4a29977d",
   "metadata": {},
   "outputs": [
    {
     "name": "stdout",
     "output_type": "stream",
     "text": [
      "Enter the number of edges: 6\n",
      "Enter edges in the format: source destination weight\n",
      "A B 2\n",
      " A C 5\n",
      " B C 1 \n",
      "B D 2 \n",
      "C D 3\n",
      "D E 1\n",
      "Enter the number of nodes for heuristics: 6\n",
      "Enter heuristics in the format: node heuristic_value\n",
      "A 6\n",
      " B 4\n",
      " C 2 \n",
      "D 1 \n",
      "E 0\n",
      "A0\n"
     ]
    },
    {
     "ename": "ValueError",
     "evalue": "not enough values to unpack (expected 2, got 1)",
     "output_type": "error",
     "traceback": [
      "\u001b[1;31m---------------------------------------------------------------------------\u001b[0m",
      "\u001b[1;31mValueError\u001b[0m                                Traceback (most recent call last)",
      "Cell \u001b[1;32mIn[2], line 54\u001b[0m\n\u001b[0;32m     50\u001b[0m \u001b[38;5;66;03m# --- Main Program ---\u001b[39;00m\n\u001b[0;32m     51\u001b[0m \n\u001b[0;32m     52\u001b[0m \u001b[38;5;66;03m# Read input\u001b[39;00m\n\u001b[0;32m     53\u001b[0m graph \u001b[38;5;241m=\u001b[39m read_graph()\n\u001b[1;32m---> 54\u001b[0m heuristics \u001b[38;5;241m=\u001b[39m \u001b[43mread_heuristics\u001b[49m\u001b[43m(\u001b[49m\u001b[43m)\u001b[49m\n\u001b[0;32m     56\u001b[0m start_node \u001b[38;5;241m=\u001b[39m \u001b[38;5;28minput\u001b[39m(\u001b[38;5;124m\"\u001b[39m\u001b[38;5;124mEnter start node: \u001b[39m\u001b[38;5;124m\"\u001b[39m)\n\u001b[0;32m     57\u001b[0m goal_node \u001b[38;5;241m=\u001b[39m \u001b[38;5;28minput\u001b[39m(\u001b[38;5;124m\"\u001b[39m\u001b[38;5;124mEnter goal node: \u001b[39m\u001b[38;5;124m\"\u001b[39m)\n",
      "Cell \u001b[1;32mIn[2], line 21\u001b[0m, in \u001b[0;36mread_heuristics\u001b[1;34m()\u001b[0m\n\u001b[0;32m     19\u001b[0m \u001b[38;5;28mprint\u001b[39m(\u001b[38;5;124m\"\u001b[39m\u001b[38;5;124mEnter heuristics in the format: node heuristic_value\u001b[39m\u001b[38;5;124m\"\u001b[39m)\n\u001b[0;32m     20\u001b[0m \u001b[38;5;28;01mfor\u001b[39;00m _ \u001b[38;5;129;01min\u001b[39;00m \u001b[38;5;28mrange\u001b[39m(n):\n\u001b[1;32m---> 21\u001b[0m     node, heuristic \u001b[38;5;241m=\u001b[39m \u001b[38;5;28minput\u001b[39m()\u001b[38;5;241m.\u001b[39msplit()\n\u001b[0;32m     22\u001b[0m     heuristics[node] \u001b[38;5;241m=\u001b[39m \u001b[38;5;28mfloat\u001b[39m(heuristic)\n\u001b[0;32m     23\u001b[0m \u001b[38;5;28;01mreturn\u001b[39;00m heuristics\n",
      "\u001b[1;31mValueError\u001b[0m: not enough values to unpack (expected 2, got 1)"
     ]
    }
   ],
   "source": [
    "import heapq\n",
    "from collections import defaultdict\n",
    "\n",
    "# Read graph from user input\n",
    "def read_graph():\n",
    "    graph = defaultdict(list)\n",
    "    n = int(input(\"Enter the number of edges: \"))\n",
    "    print(\"Enter edges in the format: source destination weight\")\n",
    "    for _ in range(n):\n",
    "        src, dest, weight = input().split()\n",
    "        weight = float(weight)\n",
    "        graph[src].append((dest, weight))  # directed edge\n",
    "    return graph\n",
    "\n",
    "# Read heuristic values from user input\n",
    "def read_heuristics():\n",
    "    heuristics = {}\n",
    "    n = int(input(\"Enter the number of nodes for heuristics: \"))\n",
    "    print(\"Enter heuristics in the format: node heuristic_value\")\n",
    "    for _ in range(n):\n",
    "        node, heuristic = input().split()\n",
    "        heuristics[node] = float(heuristic)\n",
    "    return heuristics\n",
    "\n",
    "# A* Algorithm\n",
    "def a_star(graph, heuristics, start, goal):\n",
    "    open_set = []\n",
    "    heapq.heappush(open_set, (heuristics[start], 0, start, [start]))  # (f, g, node, path)\n",
    "    \n",
    "    visited = set()\n",
    "\n",
    "    while open_set:\n",
    "        f, g, current, path = heapq.heappop(open_set)\n",
    "\n",
    "        if current == goal:\n",
    "            return path, g\n",
    "\n",
    "        if current in visited:\n",
    "            continue\n",
    "        visited.add(current)\n",
    "\n",
    "        for neighbor, weight in graph[current]:\n",
    "            if neighbor not in visited:\n",
    "                new_g = g + weight\n",
    "                new_f = new_g + heuristics.get(neighbor, float('inf'))\n",
    "                heapq.heappush(open_set, (new_f, new_g, neighbor, path + [neighbor]))\n",
    "\n",
    "    return None, float('inf')\n",
    "\n",
    "# --- Main Program ---\n",
    "\n",
    "# Read input\n",
    "graph = read_graph()\n",
    "heuristics = read_heuristics()\n",
    "\n",
    "start_node = input(\"Enter start node: \")\n",
    "goal_node = input(\"Enter goal node: \")\n",
    "\n",
    "# Run A*\n",
    "path, cost = a_star(graph, heuristics, start_node, goal_node)\n",
    "\n",
    "# Output\n",
    "if path:\n",
    "    print(\"\\nShortest Path:\", ' -> '.join(path))\n",
    "    print(\"Total Cost:\", cost)\n",
    "else:\n",
    "    print(\"\\nNo path found from\", start_node, \"to\", goal_node)\n"
   ]
  },
  {
   "cell_type": "code",
   "execution_count": null,
   "id": "38afecbf",
   "metadata": {},
   "outputs": [],
   "source": []
  }
 ],
 "metadata": {
  "kernelspec": {
   "display_name": "Python 3 (ipykernel)",
   "language": "python",
   "name": "python3"
  },
  "language_info": {
   "codemirror_mode": {
    "name": "ipython",
    "version": 3
   },
   "file_extension": ".py",
   "mimetype": "text/x-python",
   "name": "python",
   "nbconvert_exporter": "python",
   "pygments_lexer": "ipython3",
   "version": "3.9.13"
  }
 },
 "nbformat": 4,
 "nbformat_minor": 5
}
