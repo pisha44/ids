{
 "cells": [
  {
   "cell_type": "code",
   "execution_count": 1,
   "id": "af2c33d8",
   "metadata": {},
   "outputs": [
    {
     "name": "stdout",
     "output_type": "stream",
     "text": [
      "Requirement already satisfied: nltk in c:\\users\\gauri deoghare\\appdata\\local\\programs\\python\\python39\\lib\\site-packages (3.9.1)\n",
      "Requirement already satisfied: textblob in c:\\users\\gauri deoghare\\appdata\\local\\programs\\python\\python39\\lib\\site-packages (0.19.0)\n",
      "Requirement already satisfied: click in c:\\users\\gauri deoghare\\appdata\\local\\programs\\python\\python39\\lib\\site-packages (from nltk) (8.1.8)\n",
      "Requirement already satisfied: joblib in c:\\users\\gauri deoghare\\appdata\\local\\programs\\python\\python39\\lib\\site-packages (from nltk) (1.4.2)\n",
      "Requirement already satisfied: regex>=2021.8.3 in c:\\users\\gauri deoghare\\appdata\\local\\programs\\python\\python39\\lib\\site-packages (from nltk) (2024.11.6)\n",
      "Requirement already satisfied: tqdm in c:\\users\\gauri deoghare\\appdata\\local\\programs\\python\\python39\\lib\\site-packages (from nltk) (4.67.1)\n",
      "Requirement already satisfied: colorama in c:\\users\\gauri deoghare\\appdata\\local\\programs\\python\\python39\\lib\\site-packages (from click->nltk) (0.4.6)\n"
     ]
    },
    {
     "name": "stderr",
     "output_type": "stream",
     "text": [
      "[nltk_data] Downloading package punkt to C:\\Users\\Gauri\n",
      "[nltk_data]     Deoghare\\AppData\\Roaming\\nltk_data...\n",
      "[nltk_data]   Package punkt is already up-to-date!\n",
      "[nltk_data] Downloading package stopwords to C:\\Users\\Gauri\n",
      "[nltk_data]     Deoghare\\AppData\\Roaming\\nltk_data...\n",
      "[nltk_data]   Package stopwords is already up-to-date!\n",
      "[nltk_data] Downloading package wordnet to C:\\Users\\Gauri\n",
      "[nltk_data]     Deoghare\\AppData\\Roaming\\nltk_data...\n"
     ]
    },
    {
     "name": "stdout",
     "output_type": "stream",
     "text": [
      "Stemmed Tokens:\n",
      "['onc', 'upon', 'a', 'time', 'in', 'a', 'beauti', 'villag', 'there', 'live', 'a', 'brave', 'littl', 'girl', 'name', 'arya', 'she', 'love', 'to', 'explor']\n",
      "\n",
      "Lemmatized Tokens:\n",
      "['once', 'upon', 'a', 'time', 'in', 'a', 'beautiful', 'village', 'there', 'lived', 'a', 'brave', 'little', 'girl', 'named', 'arya', 'she', 'loved', 'to', 'explore']\n",
      "\n",
      "Consecutive 3 Words (after Lemmatization):\n",
      "['once upon a', 'upon a time', 'a time in', 'time in a', 'in a beautiful', 'a beautiful village', 'beautiful village there', 'village there lived', 'there lived a', 'lived a brave']\n"
     ]
    }
   ],
   "source": [
    "# Install libraries (only once)\n",
    "!pip install nltk textblob\n",
    "\n",
    "# Import required libraries\n",
    "import nltk\n",
    "import re\n",
    "from nltk.corpus import stopwords\n",
    "from nltk.tokenize import word_tokenize, sent_tokenize\n",
    "from nltk.stem import PorterStemmer\n",
    "from nltk.stem import WordNetLemmatizer\n",
    "from textblob import TextBlob\n",
    "\n",
    "# Make sure necessary NLTK resources are downloaded\n",
    "nltk.download('punkt')\n",
    "nltk.download('stopwords')\n",
    "nltk.download('wordnet')\n",
    "\n",
    "# Read the text file\n",
    "with open('sample_text.txt', 'r', encoding='utf-8') as file:\n",
    "    text = file.read()\n",
    "\n",
    "# a. Text cleaning (remove punctuation, special characters, numbers, extra spaces)\n",
    "cleaned_text = re.sub(r'[^a-zA-Z\\s]', '', text)  # Remove special characters and numbers\n",
    "cleaned_text = re.sub(r'\\s+', ' ', cleaned_text)  # Replace multiple spaces with a single space\n",
    "\n",
    "# b. Convert text to lowercase\n",
    "cleaned_text = cleaned_text.lower()\n",
    "\n",
    "# c. Stemming and Lemmatization\n",
    "# Initialize the stemmer and lemmatizer\n",
    "stemmer = PorterStemmer()\n",
    "lemmatizer = WordNetLemmatizer()\n",
    "\n",
    "# Tokenize the cleaned text into words\n",
    "tokens = word_tokenize(cleaned_text)\n",
    "\n",
    "# Apply stemming and lemmatization\n",
    "stemmed_tokens = [stemmer.stem(word) for word in tokens]\n",
    "lemmatized_tokens = [lemmatizer.lemmatize(word) for word in tokens]\n",
    "\n",
    "# d. Create a list of 3 consecutive words after lemmatization\n",
    "consecutive_words = []\n",
    "for i in range(len(lemmatized_tokens) - 2):\n",
    "    # Add consecutive 3 words after lemmatization\n",
    "    consecutive_words.append(' '.join(lemmatized_tokens[i:i+3]))\n",
    "\n",
    "# Final outputs\n",
    "print(\"Stemmed Tokens:\")\n",
    "print(stemmed_tokens[:20])  # Print first 20 stemmed tokens as a sample\n",
    "\n",
    "print(\"\\nLemmatized Tokens:\")\n",
    "print(lemmatized_tokens[:20])  # Print first 20 lemmatized tokens as a sample\n",
    "\n",
    "print(\"\\nConsecutive 3 Words (after Lemmatization):\")\n",
    "print(consecutive_words[:10])  # Print first 10 consecutive 3 words\n"
   ]
  },
  {
   "cell_type": "code",
   "execution_count": null,
   "id": "4c4ac4e8",
   "metadata": {},
   "outputs": [],
   "source": []
  }
 ],
 "metadata": {
  "kernelspec": {
   "display_name": "Python 3 (ipykernel)",
   "language": "python",
   "name": "python3"
  },
  "language_info": {
   "codemirror_mode": {
    "name": "ipython",
    "version": 3
   },
   "file_extension": ".py",
   "mimetype": "text/x-python",
   "name": "python",
   "nbconvert_exporter": "python",
   "pygments_lexer": "ipython3",
   "version": "3.9.13"
  }
 },
 "nbformat": 4,
 "nbformat_minor": 5
}
