{
 "cells": [
  {
   "cell_type": "code",
   "execution_count": 1,
   "id": "bb0d7ff2",
   "metadata": {},
   "outputs": [
    {
     "name": "stdout",
     "output_type": "stream",
     "text": [
      "Bag of Words Matrix:\n",
      "[[0 1 0 0 0 0 1 4 1 1 0 0 0 0 0 1 1 1 1 1 1 0 1 0 0 0 1 1 0 1 0 0 0 0 0 0\n",
      "  0 0 0 0 0 1 0 1 0 1 0 0 1 0 1 0 1 1 1 0 1 0 0 0 1 1 0 1 1 0 0 0 0 0 0 0\n",
      "  0 1 1 1 0 0 0 1 0 0 0 0 0 0 0 0 1 0 1 1 0 1 0 0 1 0 0 0 1 1 0 1 0 0 0 0\n",
      "  0 1 1 0 0 8 0 0 0 1 0 0 0 2 1 0 0 1 0 0 0 0 6 0 1 0 0 2 1 1 0 0 1 0 0]\n",
      " [0 1 0 1 0 0 0 3 0 0 1 1 1 0 2 0 1 0 0 0 0 1 0 1 0 0 0 0 0 0 1 1 0 1 1 0\n",
      "  1 0 0 0 0 0 1 0 1 0 1 1 0 1 1 0 0 0 0 1 0 2 0 0 0 0 0 2 0 1 0 0 1 0 0 1\n",
      "  0 0 0 0 0 1 0 1 1 0 1 2 0 1 1 0 1 0 0 0 0 0 1 1 0 1 0 1 1 0 1 0 1 1 0 0\n",
      "  1 0 0 1 0 8 2 1 0 0 1 0 1 3 0 0 1 0 1 1 0 0 3 1 0 0 1 0 0 0 0 0 0 1 1]\n",
      " [1 0 1 0 1 1 1 2 0 0 0 0 0 1 0 0 0 0 0 0 0 0 0 0 1 1 0 1 1 0 0 0 1 0 0 1\n",
      "  0 1 1 1 1 0 0 0 0 0 0 1 0 0 0 1 1 0 0 1 0 0 1 1 0 0 1 4 0 0 1 1 0 1 1 0\n",
      "  1 0 0 0 3 0 1 1 0 1 1 0 1 0 0 1 0 1 0 0 1 1 0 0 0 0 1 0 0 0 0 0 0 0 1 1\n",
      "  0 0 1 0 1 7 0 0 1 1 0 1 0 1 0 1 0 0 0 0 1 1 2 0 1 1 0 2 1 0 1 1 0 0 0]]\n",
      "\n",
      "Feature Names (Vocabulary):\n",
      "['about' 'absolutely' 'actor' 'actors' 'actual' 'after' 'an' 'and'\n",
      " 'anyone' 'background' 'be' 'been' 'best' 'brilliance' 'but' 'care'\n",
      " 'characters' 'cinema' 'cinematography' 'completely' 'complex' 'could'\n",
      " 'crafted' 'decent' 'definitely' 'delivered' 'dialogues' 'did' 'direction'\n",
      " 'director' 'disappointing' 'disconnected' 'do' 'dragged' 'editing'\n",
      " 'effects' 'else' 'emotional' 'ended' 'engaged' 'especially' 'every'\n",
      " 'executed' 'experience' 'failed' 'fantastic' 'felt' 'film' 'finish'\n",
      " 'found' 'from' 'gem' 'good' 'great' 'gripping' 'had' 'handling' 'have'\n",
      " 'heartfelt' 'hidden' 'highly' 'immersed' 'in' 'it' 'job' 'journeys'\n",
      " 'justice' 'kept' 'lacked' 'lead' 'left' 'like' 'long' 'loved' 'loves'\n",
      " 'masterpiece' 'me' 'memorable' 'moments' 'movie' 'music' 'narrative'\n",
      " 'not' 'nothing' 'of' 'on' 'originality' 'outstanding' 'overall'\n",
      " 'overdoing' 'pacing' 'perfect' 'performance' 'performances' 'plot'\n",
      " 'potential' 'powerful' 'predictable' 'pure' 'quite' 'recommend' 'scene'\n",
      " 'scenes' 'score' 'script' 'seemed' 'sharp' 'smartly' 'some' 'start'\n",
      " 'story' 'support' 'surprised' 'the' 'their' 'them' 'thinking' 'this'\n",
      " 'though' 'thrilling' 'tighter' 'to' 'topnotch' 'trailers' 'tried'\n",
      " 'unforgettable' 'unless' 'unnecessarily' 'used' 'visual' 'was' 'watch'\n",
      " 'watching' 'way' 'well' 'were' 'who' 'with' 'without' 'worth' 'would'\n",
      " 'wouldnt' 'you']\n"
     ]
    }
   ],
   "source": [
    "import re\n",
    "from sklearn.feature_extraction.text import CountVectorizer\n",
    "\n",
    "# Function to read and preprocess the text files\n",
    "def read_and_preprocess(files):\n",
    "    text_data = []\n",
    "    for file_path in files:\n",
    "        with open(file_path, 'r', encoding='utf-8') as file:\n",
    "            text = file.read()\n",
    "            # Clean the text (remove punctuation, special characters, extra spaces)\n",
    "            text = re.sub(r'[^a-zA-Z\\s]', '', text)  # Remove punctuation, numbers, etc.\n",
    "            text = re.sub(r'\\s+', ' ', text)  # Replace multiple spaces with one space\n",
    "            text = text.lower()  # Convert to lowercase\n",
    "            text_data.append(text)\n",
    "    return text_data\n",
    "\n",
    "# Function to apply Bag of Words (using CountVectorizer)\n",
    "def apply_bag_of_words(text_data):\n",
    "    vectorizer = CountVectorizer()\n",
    "    bow_matrix = vectorizer.fit_transform(text_data)\n",
    "    return bow_matrix, vectorizer.get_feature_names_out()\n",
    "\n",
    "# List of file paths (replace with your actual files)\n",
    "files = ['review1.txt', 'review2.txt', 'review3.txt']\n",
    "\n",
    "# Step 1: Read and preprocess the text files\n",
    "text_data = read_and_preprocess(files)\n",
    "\n",
    "# Step 2: Apply Bag of Words\n",
    "bow_matrix, feature_names = apply_bag_of_words(text_data)\n",
    "\n",
    "# Step 3: Print the results\n",
    "print(\"Bag of Words Matrix:\")\n",
    "print(bow_matrix.toarray())\n",
    "\n",
    "print(\"\\nFeature Names (Vocabulary):\")\n",
    "print(feature_names)\n"
   ]
  },
  {
   "cell_type": "code",
   "execution_count": null,
   "id": "e295f94c",
   "metadata": {},
   "outputs": [],
   "source": []
  }
 ],
 "metadata": {
  "kernelspec": {
   "display_name": "Python 3 (ipykernel)",
   "language": "python",
   "name": "python3"
  },
  "language_info": {
   "codemirror_mode": {
    "name": "ipython",
    "version": 3
   },
   "file_extension": ".py",
   "mimetype": "text/x-python",
   "name": "python",
   "nbconvert_exporter": "python",
   "pygments_lexer": "ipython3",
   "version": "3.9.13"
  }
 },
 "nbformat": 4,
 "nbformat_minor": 5
}
