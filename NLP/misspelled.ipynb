{
 "cells": [
  {
   "cell_type": "code",
   "execution_count": 1,
   "id": "6308b30d",
   "metadata": {},
   "outputs": [
    {
     "name": "stdout",
     "output_type": "stream",
     "text": [
      "Requirement already satisfied: nltk in c:\\users\\gauri deoghare\\appdata\\local\\programs\\python\\python39\\lib\\site-packages (3.9.1)\n",
      "Requirement already satisfied: textblob in c:\\users\\gauri deoghare\\appdata\\local\\programs\\python\\python39\\lib\\site-packages (0.19.0)\n",
      "Requirement already satisfied: click in c:\\users\\gauri deoghare\\appdata\\local\\programs\\python\\python39\\lib\\site-packages (from nltk) (8.1.8)\n",
      "Requirement already satisfied: joblib in c:\\users\\gauri deoghare\\appdata\\local\\programs\\python\\python39\\lib\\site-packages (from nltk) (1.4.2)\n",
      "Requirement already satisfied: regex>=2021.8.3 in c:\\users\\gauri deoghare\\appdata\\local\\programs\\python\\python39\\lib\\site-packages (from nltk) (2024.11.6)\n",
      "Requirement already satisfied: tqdm in c:\\users\\gauri deoghare\\appdata\\local\\programs\\python\\python39\\lib\\site-packages (from nltk) (4.67.1)\n",
      "Requirement already satisfied: colorama in c:\\users\\gauri deoghare\\appdata\\local\\programs\\python\\python39\\lib\\site-packages (from click->nltk) (0.4.6)\n"
     ]
    },
    {
     "name": "stderr",
     "output_type": "stream",
     "text": [
      "[nltk_data] Downloading package punkt to C:\\Users\\Gauri\n",
      "[nltk_data]     Deoghare\\AppData\\Roaming\\nltk_data...\n",
      "[nltk_data]   Package punkt is already up-to-date!\n",
      "[nltk_data] Downloading package stopwords to C:\\Users\\Gauri\n",
      "[nltk_data]     Deoghare\\AppData\\Roaming\\nltk_data...\n",
      "[nltk_data]   Package stopwords is already up-to-date!\n"
     ]
    },
    {
     "name": "stdout",
     "output_type": "stream",
     "text": [
      "Original Text:\n",
      " Once upon a time, in a beautiful village, there lived a brave little girl named Arya. \n",
      "She loved to explore forests, climb trees, and swim across rivers. \n",
      "Every morning, Arya would wake up early, feed the chickens, and collect fresh eggs. \n",
      "Her village was surrounded by tall mountains and lush green fields. \n",
      "Arya’s best friend, Sam, was a skilled archer and often joined her on adventures. \n",
      "One day, they decided to find the hidden waterfall beyond the dark woods. \n",
      "It was said that magical creatures lived near the waterfall. \n",
      "As they ventured deeper into the forest, they heard strange noises. \n",
      "The wind whispered secrets, and the trees seemed to move. \n",
      "Suddenly, they encountered a wise old owl who warned them of dangers ahead. \n",
      "Arya and Sam promised to be careful and continued their journey.\n",
      "They crossed a rickety bridge and climbed a steep hill.\n",
      "At the top, they could finally see the magnificent waterfall shimmering in the sunlight.\n",
      "Rainbow-colored mist floated in the air, and butterflies danced all around.\n",
      "They had made it! Their hard work and courage had paid off.\n",
      "On their way back, they collected rare flowers and shiny stones.\n",
      "When they returned to the village, everyone gathered to hear about their adventure.\n",
      "Arya and Sam became heroes in their village, inspiring others to be brave.\n",
      "Every evening, they would sit by the bonfire, sharing tales of bravery and wonder.\n",
      "Life was simple, but every day brought new magic and happiness.\n",
      "Even as they grew older, Arya and Sam never stopped exploring the world around them.\n",
      "They believed that every heart holds a spark of adventure, waiting to be discovered.\n",
      "And so, their story became a legend, passed down through generations.\n",
      "\n",
      "\n",
      "\n",
      "Cleaned Text:\n",
      " once upon a time in a beautiful village there lived a brave little girl named arya she loved to explore forests climb trees and swim across rivers every morning arya would wake up early feed the chickens and collect fresh eggs her village was surrounded by tall mountains and lush green fields aryas best friend sam was a skilled archer and often joined her on adventures one day they decided to find the hidden waterfall beyond the dark woods it was said that magical creatures lived near the waterfall as they ventured deeper into the forest they heard strange noises the wind whispered secrets and the trees seemed to move suddenly they encountered a wise old owl who warned them of dangers ahead arya and sam promised to be careful and continued their journey they crossed a rickety bridge and climbed a steep hill at the top they could finally see the magnificent waterfall shimmering in the sunlight rainbowcolored mist floated in the air and butterflies danced all around they had made it their hard work and courage had paid off on their way back they collected rare flowers and shiny stones when they returned to the village everyone gathered to hear about their adventure arya and sam became heroes in their village inspiring others to be brave every evening they would sit by the bonfire sharing tales of bravery and wonder life was simple but every day brought new magic and happiness even as they grew older arya and sam never stopped exploring the world around them they believed that every heart holds a spark of adventure waiting to be discovered and so their story became a legend passed down through generations\n",
      "\n",
      "Tokens after Stopword Removal:\n",
      " ['upon', 'time', 'beautiful', 'village', 'lived', 'brave', 'little', 'girl', 'named', 'arya', 'loved', 'explore', 'forests', 'climb', 'trees', 'swim', 'across', 'rivers', 'every', 'morning', 'arya', 'would', 'wake', 'early', 'feed', 'chickens', 'collect', 'fresh', 'eggs', 'village', 'surrounded', 'tall', 'mountains', 'lush', 'green', 'fields', 'aryas', 'best', 'friend', 'sam', 'skilled', 'archer', 'often', 'joined', 'adventures', 'one', 'day', 'decided', 'find', 'hidden', 'waterfall', 'beyond', 'dark', 'woods', 'said', 'magical', 'creatures', 'lived', 'near', 'waterfall', 'ventured', 'deeper', 'forest', 'heard', 'strange', 'noises', 'wind', 'whispered', 'secrets', 'trees', 'seemed', 'move', 'suddenly', 'encountered', 'wise', 'old', 'owl', 'warned', 'dangers', 'ahead', 'arya', 'sam', 'promised', 'careful', 'continued', 'journey', 'crossed', 'rickety', 'bridge', 'climbed', 'steep', 'hill', 'top', 'could', 'finally', 'see', 'magnificent', 'waterfall', 'shimmering', 'sunlight', 'rainbowcolored', 'mist', 'floated', 'air', 'butterflies', 'danced', 'around', 'made', 'hard', 'work', 'courage', 'paid', 'way', 'back', 'collected', 'rare', 'flowers', 'shiny', 'stones', 'returned', 'village', 'everyone', 'gathered', 'hear', 'adventure', 'arya', 'sam', 'became', 'heroes', 'village', 'inspiring', 'others', 'brave', 'every', 'evening', 'would', 'sit', 'bonfire', 'sharing', 'tales', 'bravery', 'wonder', 'life', 'simple', 'every', 'day', 'brought', 'new', 'magic', 'happiness', 'even', 'grew', 'older', 'arya', 'sam', 'never', 'stopped', 'exploring', 'world', 'around', 'believed', 'every', 'heart', 'holds', 'spark', 'adventure', 'waiting', 'discovered', 'story', 'became', 'legend', 'passed', 'generations']\n",
      "\n",
      "Tokens after Spell Correction:\n",
      " ['upon', 'time', 'beautiful', 'village', 'lived', 'brave', 'little', 'girl', 'named', 'area', 'loved', 'explore', 'forests', 'climb', 'trees', 'swim', 'across', 'rivers', 'every', 'morning', 'area', 'would', 'wake', 'early', 'feed', 'chickens', 'collect', 'fresh', 'eggs', 'village', 'surrounded', 'tall', 'mountains', 'lush', 'green', 'fields', 'areas', 'best', 'friend', 'sam', 'skilled', 'arched', 'often', 'joined', 'adventures', 'one', 'day', 'decided', 'find', 'hidden', 'waterfall', 'beyond', 'dark', 'woods', 'said', 'magical', 'creatures', 'lived', 'near', 'waterfall', 'ventured', 'deeper', 'forest', 'heard', 'strange', 'noise', 'wind', 'whispered', 'secrets', 'trees', 'seemed', 'move', 'suddenly', 'encountered', 'wise', 'old', 'owl', 'warned', 'dangers', 'ahead', 'area', 'sam', 'promised', 'careful', 'continued', 'journey', 'crossed', 'rickety', 'bridge', 'climbed', 'steep', 'hill', 'top', 'could', 'finally', 'see', 'magnificent', 'waterfall', 'shimmering', 'sunlight', 'rainbowcolored', 'mist', 'floated', 'air', 'butterflies', 'danced', 'around', 'made', 'hard', 'work', 'courage', 'paid', 'way', 'back', 'collected', 'rare', 'flowers', 'shiny', 'stones', 'returned', 'village', 'everyone', 'gathered', 'hear', 'adventure', 'area', 'sam', 'became', 'heroes', 'village', 'inspiring', 'others', 'brave', 'every', 'evening', 'would', 'sit', 'bonfire', 'sharing', 'tales', 'bravery', 'wonder', 'life', 'simple', 'every', 'day', 'brought', 'new', 'magic', 'happiness', 'even', 'grew', 'older', 'area', 'sam', 'never', 'stopped', 'exploring', 'world', 'around', 'believed', 'every', 'heart', 'holds', 'spark', 'adventure', 'waiting', 'discovered', 'story', 'became', 'legend', 'passed', 'generations']\n"
     ]
    }
   ],
   "source": [
    "# Install libraries (only once)\n",
    "!pip install nltk textblob\n",
    "\n",
    "# Import required libraries\n",
    "import nltk\n",
    "import re\n",
    "from nltk.corpus import stopwords\n",
    "from nltk.tokenize import word_tokenize\n",
    "from textblob import TextBlob\n",
    "\n",
    "# Download necessary NLTK data\n",
    "nltk.download('punkt')\n",
    "nltk.download('stopwords')\n",
    "\n",
    "# Read text from file\n",
    "try:\n",
    "    with open('sample_text.txt', 'r', encoding='utf-8') as file:\n",
    "        text = file.read()\n",
    "except FileNotFoundError:\n",
    "    print(\"Error: File 'sample_text.txt' not found.\")\n",
    "    text = \"\"\n",
    "except Exception as e:\n",
    "    print(f\"Error reading file: {e}\")\n",
    "    text = \"\"\n",
    "\n",
    "# Only proceed if we have text to process\n",
    "if text:\n",
    "    # Step a: Cleaning text\n",
    "    cleaned_text = re.sub(r'[^A-Za-z\\s]', '', text)  # Remove punctuation, numbers\n",
    "    cleaned_text = re.sub(r'\\s+', ' ', cleaned_text).strip()  # Remove extra whitespaces\n",
    "    \n",
    "    # Step b: Convert to lowercase\n",
    "    cleaned_text = cleaned_text.lower()\n",
    "    \n",
    "    # Step c: Tokenization\n",
    "    tokens = word_tokenize(cleaned_text)\n",
    "    \n",
    "    # Step d: Remove stopwords\n",
    "    stop_words = set(stopwords.words('english'))\n",
    "    filtered_tokens = [word for word in tokens if word not in stop_words]\n",
    "    \n",
    "    # Step e: Correct misspelled words\n",
    "    corrected_tokens = []\n",
    "    for word in filtered_tokens:\n",
    "        blob = TextBlob(word)\n",
    "        corrected_word = str(blob.correct())\n",
    "        corrected_tokens.append(corrected_word)\n",
    "    \n",
    "    # Final output\n",
    "    print(\"Original Text:\\n\", text)\n",
    "    print(\"\\nCleaned Text:\\n\", cleaned_text)\n",
    "    print(\"\\nTokens after Stopword Removal:\\n\", filtered_tokens)\n",
    "    print(\"\\nTokens after Spell Correction:\\n\", corrected_tokens)\n",
    "else:\n",
    "    print(\"No text to process. Please ensure 'sample_text.txt' exists and contains text.\")"
   ]
  },
  {
   "cell_type": "code",
   "execution_count": null,
   "id": "f2b350c1",
   "metadata": {},
   "outputs": [],
   "source": []
  }
 ],
 "metadata": {
  "kernelspec": {
   "display_name": "Python 3 (ipykernel)",
   "language": "python",
   "name": "python3"
  },
  "language_info": {
   "codemirror_mode": {
    "name": "ipython",
    "version": 3
   },
   "file_extension": ".py",
   "mimetype": "text/x-python",
   "name": "python",
   "nbconvert_exporter": "python",
   "pygments_lexer": "ipython3",
   "version": "3.9.13"
  }
 },
 "nbformat": 4,
 "nbformat_minor": 5
}
